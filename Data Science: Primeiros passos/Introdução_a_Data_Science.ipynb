{
  "nbformat": 4,
  "nbformat_minor": 0,
  "metadata": {
    "colab": {
      "name": "Introdução a Data Science.ipynb",
      "provenance": [],
      "authorship_tag": "ABX9TyPc5zq6DdItkdvAK/K2uahl",
      "include_colab_link": true
    },
    "kernelspec": {
      "name": "python3",
      "display_name": "Python 3"
    },
    "language_info": {
      "name": "python"
    }
  },
  "cells": [
    {
      "cell_type": "markdown",
      "metadata": {
        "id": "view-in-github",
        "colab_type": "text"
      },
      "source": [
        "<a href=\"https://colab.research.google.com/github/guiaparicio/data-science/blob/master/Data%20Science%3A%20Primeiros%20passos/Introdu%C3%A7%C3%A3o_a_Data_Science.ipynb\" target=\"_parent\"><img src=\"https://colab.research.google.com/assets/colab-badge.svg\" alt=\"Open In Colab\"/></a>"
      ]
    },
    {
      "cell_type": "code",
      "metadata": {
        "colab": {
          "base_uri": "https://localhost:8080/",
          "height": 386
        },
        "id": "u7kL4khRUifs",
        "outputId": "765ec8da-82d6-4e03-e864-5a9b5b265f83"
      },
      "source": [
        "import pandas as pd\n",
        "\n",
        "notas = pd.read_csv(\"ratings.csv\")\n",
        "\n",
        "# RETORNA A QUANTIDADE DE REGISTROS / COLUNAS\n",
        "notas.shape \n",
        "\n",
        "# RENOMEIA AS COLUNAS\n",
        "notas.columns = [\"usuarioId\", \"filmeId\", \"nota\", \"momento\"]\n",
        "\n",
        "# RETORNA APENAS OS PRIMEIROS REGISTROS\n",
        "notas.head()\n",
        "\n",
        "# RETORNA OS VALORES DE UMA COLUNA ESPECIFICA\n",
        "notas['nota']\n",
        "\n",
        "# RETORNA OS VALORES DE UMA COLUNA ESPECIFICA (UNICOS)\n",
        "notas['nota'].unique()\n",
        "\n",
        "# RETORNA A QUANTIDADE DE OCORRENCIA PARA CADA VALOR\n",
        "notas['nota'].value_counts()\n",
        "\n",
        "# RETORNA A MÉDIA DE VALORES\n",
        "notas['nota'].mean()\n",
        "\n",
        "# ACESSA DIRETAMENTE O VALOR\n",
        "notas.nota\n",
        "notas.nota.head()\n",
        "\n",
        "# GRAFICO (COMENTADO PARA NAO FICAR APARECENDO NA SAIDA)\n",
        "# notas.nota.plot(kind='hist')\n",
        "\n",
        "# MEDIA / MEDIANA\n",
        "print(\"Média:\",notas['nota'].mean())\n",
        "print(\"Mediana:\",notas['nota'].median())\n",
        "\n",
        "# DESCRICAO DOS VALORES\n",
        "notas.nota.describe()\n",
        "\n",
        "import seaborn as sns\n",
        "\n",
        "sns.boxplot(notas.nota)"
      ],
      "execution_count": 12,
      "outputs": [
        {
          "output_type": "stream",
          "name": "stdout",
          "text": [
            "Média: 3.501556983616962\n",
            "Mediana: 3.5\n"
          ]
        },
        {
          "output_type": "stream",
          "name": "stderr",
          "text": [
            "/usr/local/lib/python3.7/dist-packages/seaborn/_decorators.py:43: FutureWarning: Pass the following variable as a keyword arg: x. From version 0.12, the only valid positional argument will be `data`, and passing other arguments without an explicit keyword will result in an error or misinterpretation.\n",
            "  FutureWarning\n"
          ]
        },
        {
          "output_type": "execute_result",
          "data": {
            "text/plain": [
              "<matplotlib.axes._subplots.AxesSubplot at 0x7ff40e0a9f50>"
            ]
          },
          "metadata": {},
          "execution_count": 12
        },
        {
          "output_type": "display_data",
          "data": {
            "image/png": "[encoded data removed]",
            "text/plain": [
              "<Figure size 432x288 with 1 Axes>"
            ]
          },
          "metadata": {
            "needs_background": "light"
          }
        }
      ]
    }
  ]
}