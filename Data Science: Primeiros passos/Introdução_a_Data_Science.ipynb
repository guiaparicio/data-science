{
  "nbformat": 4,
  "nbformat_minor": 0,
  "metadata": {
    "colab": {
      "name": "Introdução a Data Science.ipynb",
      "provenance": [],
      "authorship_tag": "ABX9TyNMQCQk+/KseTHyiRBYLxtz",
      "include_colab_link": true
    },
    "kernelspec": {
      "name": "python3",
      "display_name": "Python 3"
    },
    "language_info": {
      "name": "python"
    }
  },
  "cells": [
    {
      "cell_type": "markdown",
      "metadata": {
        "id": "view-in-github",
        "colab_type": "text"
      },
      "source": [
        "<a href=\"https://colab.research.google.com/github/guiaparicio/data-science/blob/master/Data%20Science%3A%20Primeiros%20passos/Introdu%C3%A7%C3%A3o_a_Data_Science.ipynb\" target=\"_parent\"><img src=\"https://colab.research.google.com/assets/colab-badge.svg\" alt=\"Open In Colab\"/></a>"
      ]
    },
    {
      "cell_type": "code",
      "metadata": {
        "id": "u7kL4khRUifs"
      },
      "source": [
        "import pandas as pd\n",
        "\n",
        "notas = pd.read_csv(\"ratings.csv\")\n",
        "\n",
        "# MOSTRA A QUANTIDADE DE REGISTROS / COLUNAS\n",
        "notas.shape \n",
        "\n",
        "# RENOMEIA AS COLUNAS\n",
        "notas.columns = [\"usuarioId\", \"filmeId\", \"nota\", \"momento\"]\n",
        "\n",
        "# MOSTRA APENAS OS PRIMEIROS REGISTROS\n",
        "notas.head()\n",
        "\n",
        "# MOSTRA OS VALORES DE UMA COLUNA ESPECIFICA\n",
        "notas['nota']\n",
        "\n",
        "# MOSTRA OS VALORES DE UMA COLUNA ESPECIFICA (UNICOS)\n",
        "notas['nota'].unique()\n",
        "\n",
        "# MOSTRA A QUANTIDADE DE OCORRENCIA PARA CADA VALOR\n",
        "notas['nota'].value_counts()"
      ],
      "execution_count": null,
      "outputs": []
    },
    {
      "cell_type": "code",
      "metadata": {
        "id": "-q30TvTLm1yT"
      },
      "source": [
        ""
      ],
      "execution_count": null,
      "outputs": []
    }
  ]
}