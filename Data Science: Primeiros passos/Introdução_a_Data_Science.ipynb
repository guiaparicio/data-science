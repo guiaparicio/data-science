{
  "nbformat": 4,
  "nbformat_minor": 0,
  "metadata": {
    "colab": {
      "name": "Introdução a Data Science.ipynb",
      "provenance": [],
      "authorship_tag": "ABX9TyNy7IeDgzcxOmpN1dOs7lpS",
      "include_colab_link": true
    },
    "kernelspec": {
      "name": "python3",
      "display_name": "Python 3"
    },
    "language_info": {
      "name": "python"
    }
  },
  "cells": [
    {
      "cell_type": "markdown",
      "metadata": {
        "id": "view-in-github",
        "colab_type": "text"
      },
      "source": [
        "<a href=\"https://colab.research.google.com/github/guiaparicio/data-science/blob/master/Data%20Science%3A%20Primeiros%20passos/Introdu%C3%A7%C3%A3o_a_Data_Science.ipynb\" target=\"_parent\"><img src=\"https://colab.research.google.com/assets/colab-badge.svg\" alt=\"Open In Colab\"/></a>"
      ]
    },
    {
      "cell_type": "code",
      "metadata": {
        "id": "u7kL4khRUifs"
      },
      "source": [
        "import pandas as pd\n",
        "\n",
        "notas = pd.read_csv(\"ratings.csv\")\n",
        "\n",
        "# RETORNA A QUANTIDADE DE REGISTROS / COLUNAS\n",
        "notas.shape \n",
        "\n",
        "# RENOMEIA AS COLUNAS\n",
        "notas.columns = [\"usuarioId\", \"filmeId\", \"nota\", \"momento\"]\n",
        "\n",
        "# RETORNA APENAS OS PRIMEIROS REGISTROS\n",
        "notas.head()\n",
        "\n",
        "# RETORNA OS VALORES DE UMA COLUNA ESPECIFICA\n",
        "notas['nota']\n",
        "\n",
        "# RETORNA OS VALORES DE UMA COLUNA ESPECIFICA (UNICOS)\n",
        "notas['nota'].unique()\n",
        "\n",
        "# RETORNA A QUANTIDADE DE OCORRENCIA PARA CADA VALOR\n",
        "notas['nota'].value_counts()\n",
        "\n",
        "# RETONA A MÉDIA DE VALORES\n",
        "notas['nota'].mean()"
      ],
      "execution_count": null,
      "outputs": []
    }
  ]
}