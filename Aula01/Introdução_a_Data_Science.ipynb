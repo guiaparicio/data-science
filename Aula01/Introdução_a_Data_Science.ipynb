{
  "nbformat": 4,
  "nbformat_minor": 0,
  "metadata": {
    "colab": {
      "name": "Introdução a Data Science.ipynb",
      "provenance": [],
      "authorship_tag": "ABX9TyNMQCQk+/KseTHyiRBYLxtz",
      "include_colab_link": true
    },
    "kernelspec": {
      "name": "python3",
      "display_name": "Python 3"
    },
    "language_info": {
      "name": "python"
    }
  },
  "cells": [
    {
      "cell_type": "markdown",
      "metadata": {
        "id": "view-in-github",
        "colab_type": "text"
      },
      "source": [
        "<a href=\"https://colab.research.google.com/github/guiaparicio/data-science/blob/master/Aula01/Introdu%C3%A7%C3%A3o_a_Data_Science.ipynb\" target=\"_parent\"><img src=\"https://colab.research.google.com/assets/colab-badge.svg\" alt=\"Open In Colab\"/></a>"
      ]
    },
    {
      "cell_type": "code",
      "metadata": {
        "colab": {
          "base_uri": "https://localhost:8080/"
        },
        "id": "u7kL4khRUifs",
        "outputId": "20799c10-5977-460a-a9d2-16ffa90a38ae"
      },
      "source": [
        "import pandas as pd\n",
        "\n",
        "notas = pd.read_csv(\"ratings.csv\")\n",
        "\n",
        "# MOSTRA A QUANTIDADE DE REGISTROS / COLUNAS\n",
        "notas.shape \n",
        "\n",
        "# RENOMEIA AS COLUNAS\n",
        "notas.columns = [\"usuarioId\", \"filmeId\", \"nota\", \"momento\"]\n",
        "\n",
        "# MOSTRA APENAS OS PRIMEIROS REGISTROS\n",
        "notas.head()\n",
        "\n",
        "# MOSTRA OS VALORES DE UMA COLUNA ESPECIFICA\n",
        "notas['nota']\n",
        "\n",
        "# MOSTRA OS VALORES DE UMA COLUNA ESPECIFICA (UNICOS)\n",
        "notas['nota'].unique()\n",
        "\n",
        "# MOSTRA A QUANTIDADE DE OCORRENCIA PARA CADA VALOR\n",
        "notas['nota'].value_counts()"
      ],
      "execution_count": 74,
      "outputs": [
        {
          "output_type": "execute_result",
          "data": {
            "text/plain": [
              "4.0    26818\n",
              "3.0    20047\n",
              "5.0    13211\n",
              "3.5    13136\n",
              "4.5     8551\n",
              "2.0     7551\n",
              "2.5     5550\n",
              "1.0     2811\n",
              "1.5     1791\n",
              "0.5     1370\n",
              "Name: nota, dtype: int64"
            ]
          },
          "metadata": {},
          "execution_count": 74
        }
      ]
    },
    {
      "cell_type": "code",
      "metadata": {
        "id": "-q30TvTLm1yT"
      },
      "source": [
        ""
      ],
      "execution_count": null,
      "outputs": []
    }
  ]
}